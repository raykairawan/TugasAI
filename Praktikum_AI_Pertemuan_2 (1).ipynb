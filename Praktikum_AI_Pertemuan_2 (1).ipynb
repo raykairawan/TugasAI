{
  "nbformat": 4,
  "nbformat_minor": 0,
  "metadata": {
    "colab": {
      "provenance": [],
      "collapsed_sections": [
        "U1bTjDJPrM4B"
      ]
    },
    "kernelspec": {
      "name": "python3",
      "display_name": "Python 3"
    },
    "language_info": {
      "name": "python"
    }
  },
  "cells": [
    {
      "cell_type": "markdown",
      "source": [
        "Nim : 1906102, Nama: Rizky"
      ],
      "metadata": {
        "id": "WW1ZsGgf4Li6"
      }
    },
    {
      "cell_type": "markdown",
      "source": [
        "# Breadth First Search\n"
      ],
      "metadata": {
        "id": "U1bTjDJPrM4B"
      }
    },
    {
      "cell_type": "markdown",
      "source": [
        "Buat fungsi BFS."
      ],
      "metadata": {
        "id": "0k0VWzMtrUUx"
      }
    },
    {
      "cell_type": "code",
      "source": [
        "def bfs (graph, source):\n",
        "  visited = set('A', 'B', 'C', 'D', 'E') # Track node yang sudah dikunjungi\n",
        "  bfs_traversal = list('A', 'B', 'E', ...., 'G') # Hasil dari bfs\n",
        "  queue = list()\n",
        "\n",
        "  # Masukkan root node ke antrian dan tandai node tersebut sudah dikunjungi\n",
        "  queue.append(source)\n",
        "  visited.add(source)\n",
        "\n",
        "  # Lakukan perulangan hingga antrian kosong\n",
        "  while queue:\n",
        "    # Keluarkan node dari depan antrian dan masukkan ke dalam bfs_traversal\n",
        "    current_node = queue.pop(0) 'B'\n",
        "    bfs_traversal.append(current_node)\n",
        "\n",
        "    # Lakukan pengecekan semua node terdekat dari current_node\n",
        "    for neighbour_node in graph[current_node]: graph['B']\n",
        "      # Jika node tetangga belum dikunjungi, masukkan ke dalam antrian dan tandai sudah dikunjungi\n",
        "      if neighbour_node not in visited:\n",
        "        queue.append(neighbour_node)\n",
        "        visited.add(neighbour_node)\n",
        "\n",
        "  return bfs_traversal"
      ],
      "metadata": {
        "id": "GljZc1Uuratq"
      },
      "execution_count": 4,
      "outputs": []
    },
    {
      "cell_type": "markdown",
      "source": [
        "Trigger fungsi bfs"
      ],
      "metadata": {
        "id": "oF7lNiV5tB87"
      }
    },
    {
      "cell_type": "code",
      "source": [
        "def main():\n",
        "  graph = {\n",
        "      'A': ['B', 'C'],\n",
        "      'B': ['A', 'D', 'E'],\n",
        "      'C': ['A', 'F', 'G'],\n",
        "      'D': ['B'],\n",
        "      'E': ['B'],\n",
        "      'F': ['C'],\n",
        "      'G': ['C'],\n",
        "  }\n",
        "\n",
        "  bfs_traversal = bfs(graph, 'A')\n",
        "  print(f'BFS: {bfs_traversal}')"
      ],
      "metadata": {
        "id": "-xDY1dCwtFci"
      },
      "execution_count": 9,
      "outputs": []
    },
    {
      "cell_type": "code",
      "source": [
        "main()"
      ],
      "metadata": {
        "colab": {
          "base_uri": "https://localhost:8080/"
        },
        "id": "rmjBn8Mvt13x",
        "outputId": "74c915be-ef92-4b97-aeeb-9ca75f384007"
      },
      "execution_count": 10,
      "outputs": [
        {
          "output_type": "stream",
          "name": "stdout",
          "text": [
            "BFS: ['A', 'B', 'C', 'D', 'E', 'F', 'G']\n"
          ]
        }
      ]
    },
    {
      "cell_type": "markdown",
      "source": [
        "# Depth First Search (DFS)"
      ],
      "metadata": {
        "id": "dAnzR8IP1GeX"
      }
    },
    {
      "cell_type": "markdown",
      "source": [
        "Buat fungsi DFS"
      ],
      "metadata": {
        "id": "N70rg5yK1MU8"
      }
    },
    {
      "cell_type": "code",
      "source": [
        "def dfs(graph, source, visited, dfs_traversal):\n",
        "  if source not in visited:\n",
        "    dfs_traversal.append(source)\n",
        "    visited.add(source)\n",
        "\n",
        "    for neighbor_node in graph[source]:\n",
        "      dfs(graph, neighbor_node, visited, dfs_traversal)\n",
        "  return dfs_traversal"
      ],
      "metadata": {
        "id": "QsTnDglt1OD9"
      },
      "execution_count": 11,
      "outputs": []
    },
    {
      "cell_type": "markdown",
      "source": [
        "Trigger fungsi dfs."
      ],
      "metadata": {
        "id": "S2c8rGrt1_CU"
      }
    },
    {
      "cell_type": "code",
      "source": [
        "def main():\n",
        "  visited = set()\n",
        "  dfs_traversal = list()\n",
        "\n",
        "  graph = {\n",
        "      'A': ['B', 'C'],\n",
        "      'B': ['D', 'E'],\n",
        "      'C': ['F', 'G'],\n",
        "      'D': [],\n",
        "      'E': [],\n",
        "      'F': [],\n",
        "      'G': []\n",
        "  }\n",
        "\n",
        "  dfs_traversal = dfs(graph, 'B', visited, dfs_traversal)\n",
        "  print(f'DFS: {dfs_traversal}')"
      ],
      "metadata": {
        "id": "WGLnoQBV16s_"
      },
      "execution_count": 16,
      "outputs": []
    },
    {
      "cell_type": "code",
      "source": [
        "main()"
      ],
      "metadata": {
        "colab": {
          "base_uri": "https://localhost:8080/"
        },
        "id": "eKxUPQX82ioX",
        "outputId": "fe3f0f2a-a5c2-4133-ce71-55ff564d3216"
      },
      "execution_count": 17,
      "outputs": [
        {
          "output_type": "stream",
          "name": "stdout",
          "text": [
            "DFS: ['B', 'D', 'E']\n"
          ]
        }
      ]
    },
    {
      "cell_type": "markdown",
      "source": [
        "# Uniform Cost Search (UCS)"
      ],
      "metadata": {
        "id": "6UcNs0KR2uT_"
      }
    },
    {
      "cell_type": "markdown",
      "source": [
        "Buat fungsi UCS."
      ],
      "metadata": {
        "id": "bbUwVU_O20GQ"
      }
    },
    {
      "cell_type": "code",
      "source": [
        "def uniform_cost_search(goal, start):\n",
        "  global graph, cost\n",
        "  answer = []\n",
        "\n",
        "  queue = []\n",
        "\n",
        "  for i in range(len(goal)):\n",
        "    answer.append(10**8)\n",
        "  \n",
        "  queue.append([0, start])\n",
        "\n",
        "  visited = {}\n",
        "\n",
        "  count = 0\n",
        "\n",
        "  while (len(queue) > 0):\n",
        "    queue = sorted(queue)\n",
        "    p = queue[-1]\n",
        "\n",
        "    del queue[-1]\n",
        "\n",
        "    p[0] *= -1\n",
        "\n",
        "    if (p[1] in goal):\n",
        "      index = goal.index(p[1])\n",
        "\n",
        "      if (answer[index] == 10**8):\n",
        "        count += 1\n",
        "\n",
        "      if (answer[index] > p[0]):\n",
        "        answer[index] = p[0]\n",
        "\n",
        "      del queue[-1]\n",
        "\n",
        "      queue = sorted(queue)\n",
        "      if (count == len(goal)):\n",
        "        return answer\n",
        "\n",
        "    if (p[1] not in visited):\n",
        "      for i in range(len(graph[p[1]])):\n",
        "        queue.append([(p[0] + cost[(p[1], graph[p[1]][i])]) * -1, graph[p[1]][i]])\n",
        "    \n",
        "    visited[p[1]] = 1\n",
        "  \n",
        "  return answer"
      ],
      "metadata": {
        "id": "-Pr0wLiI22xG"
      },
      "execution_count": null,
      "outputs": []
    },
    {
      "cell_type": "markdown",
      "source": [
        "Trigger fungsi UCS."
      ],
      "metadata": {
        "id": "4NdKmUm95qp0"
      }
    },
    {
      "cell_type": "code",
      "source": [
        "# Buat graph\n",
        "graph, cost = [[] for i in range(8)], {}\n",
        "\n",
        "# Tambahkan edge\n",
        "graph[0].append(1)\n",
        "graph[0].append(3)\n",
        "graph[3].append(1)\n",
        "graph[3].append(6)\n",
        "graph[3].append(4)\n",
        "graph[1].append(6)\n",
        "graph[4].append(2)\n",
        "graph[4].append(5)\n",
        "graph[2].append(1)\n",
        "graph[5].append(2)\n",
        "graph[5].append(6)\n",
        "graph[6].append(4)\n",
        "\n",
        "# Tambahkan cost\n",
        "cost[(0, 1)] = 2\n",
        "cost[(0, 3)] = 5\n",
        "cost[(1, 6)] = 1\n",
        "cost[(3, 1)] = 5\n",
        "cost[(3, 6)] = 6\n",
        "cost[(3, 4)] = 2\n",
        "cost[(2, 1)] = 4\n",
        "cost[(4, 2)] = 4\n",
        "cost[(4, 5)] = 3\n",
        "cost[(5, 2)] = 6\n",
        "cost[(5, 6)] = 3\n",
        "cost[(6, 4)] = 7\n",
        "\n",
        "goal = []\n",
        "\n",
        "goal.append(6)\n",
        "\n",
        "answer = uniform_cost_search(goal, 0)\n",
        "\n",
        "print(f'Minimum cost from 0 to 6 is = {answer[0]}')"
      ],
      "metadata": {
        "colab": {
          "base_uri": "https://localhost:8080/"
        },
        "id": "SU0ICKid5v75",
        "outputId": "288fa413-e1d6-44ec-c64d-eb2ca0f5824c"
      },
      "execution_count": null,
      "outputs": [
        {
          "output_type": "stream",
          "name": "stdout",
          "text": [
            "Minimum cost from 0 to 6 is = 3\n"
          ]
        }
      ]
    },
    {
      "cell_type": "markdown",
      "source": [
        "# Iterative Deepening Depth First Search"
      ],
      "metadata": {
        "id": "GHyZ2QUB7kf0"
      }
    },
    {
      "cell_type": "code",
      "source": [
        "from collections import defaultdict\n",
        "\n",
        "class Graph:\n",
        "  def __init__(self, vertices):\n",
        "    self.V = vertices\n",
        "    self.graph = defaultdict(list)\n",
        "\n",
        "  def addEdge(self, u, v):\n",
        "    self.graph[u].append(v)\n",
        "\n",
        "  def DLS(self, src, target, maxDepth):\n",
        "    if src == target: return True\n",
        "\n",
        "    if maxDepth <= 0: return False\n",
        "\n",
        "    for i in self.graph[src]:\n",
        "      if(self.DLS(i, target, maxDepth - 1)):\n",
        "        return True\n",
        "    return False\n",
        "\n",
        "  def IDDFS(self, src, target, maxDepth):\n",
        "    for i in range(maxDepth):\n",
        "      if (self.DLS(src, target, i)):\n",
        "        return True\n",
        "    return False"
      ],
      "metadata": {
        "id": "67S_lVE77udx"
      },
      "execution_count": null,
      "outputs": []
    },
    {
      "cell_type": "code",
      "source": [
        "g = Graph(7)\n",
        "g.addEdge(0, 1)\n",
        "g.addEdge(0, 2)\n",
        "g.addEdge(0, 4)\n",
        "g.addEdge(1, 3)\n",
        "g.addEdge(1, 5)\n",
        "g.addEdge(2, 6)\n",
        "\n",
        "target = 6\n",
        "maxDepth = 3\n",
        "src = 0\n",
        "\n",
        "if g.IDDFS(src, target, maxDepth) == True:\n",
        "  print('Target is reachable from source within max depth')\n",
        "else:\n",
        "  print('Target is NOT reachable from source within max depth')\n"
      ],
      "metadata": {
        "colab": {
          "base_uri": "https://localhost:8080/"
        },
        "id": "f-yp-pHI85lj",
        "outputId": "e581693e-f748-4000-9ee2-f12c7aa89e62"
      },
      "execution_count": null,
      "outputs": [
        {
          "output_type": "stream",
          "name": "stdout",
          "text": [
            "Target is reachable from source within max depth\n"
          ]
        }
      ]
    },
    {
      "cell_type": "markdown",
      "source": [
        "# Bidirectional Search"
      ],
      "metadata": {
        "id": "xdCxkP-r9W4B"
      }
    },
    {
      "cell_type": "code",
      "source": [
        "class AdjacentNode:\n",
        "  def __init__(self, vertex):\n",
        "    self.vertex = vertex\n",
        "    self.next = None\n",
        "\n",
        "class BidirectionalSearch:\n",
        "  def __init__(self, vertices):\n",
        "    self.vertices = vertices\n",
        "    self.graph = [None] * self.vertices\n",
        "\n",
        "    self.src_queue = list()\n",
        "    self.dest_queue = list()\n",
        "\n",
        "    self.src_visited = [False] * self.vertices\n",
        "    self.dest_visited = [False] * self.vertices\n",
        "\n",
        "    self.src_parent = [None] * self.vertices\n",
        "    self.dest_parent = [None] * self.vertices\n",
        "\n",
        "  def add_edge(self, src, dest):\n",
        "    node = AdjacentNode(dest)\n",
        "    node.next = self.graph[src]\n",
        "    self.graph[src] = node\n",
        "\n",
        "    node = AdjacentNode(src)\n",
        "    node.next = self.graph[dest]\n",
        "    self.graph[dest] = node\n",
        "\n",
        "  def bfs(self, direction = 'forward'):\n",
        "    if direction == 'forward':\n",
        "      current = self.src_queue.pop(0)\n",
        "      connected_node = self.graph[current]\n",
        "\n",
        "      while connected_node:\n",
        "        vertex = connected_node.vertex\n",
        "\n",
        "        if not self.src_visited[vertex]:\n",
        "          self.src_queue.append(vertex)\n",
        "          self.src_visited[vertex] = True\n",
        "          self.src_parent[vertex] = current\n",
        "\n",
        "        connected_node = connected_node.next\n",
        "    else:\n",
        "      current = self.dest_queue.pop(0)\n",
        "      connected_node = self.graph[current]\n",
        "\n",
        "      while connected_node:\n",
        "        vertex = connected_node.vertex\n",
        "\n",
        "        if not self.dest_visited[vertex]:\n",
        "          self.dest_queue.append(vertex)\n",
        "          self.dest_visited[vertex] = True\n",
        "          self.dest_parent[vertex] = current\n",
        "        \n",
        "        connected_node = connected_node.next\n",
        "\n",
        "  def is_intersecting(self):\n",
        "    for i in range(self.vertices):\n",
        "      if (self.src_visited[i] and self.dest_visited[i]):\n",
        "        return i\n",
        "    return -1\n",
        "\n",
        "  def print_path(self, intersecting_node, src, dest):\n",
        "    path = list()\n",
        "    path.append(intersecting_node)\n",
        "    i = intersecting_node\n",
        "\n",
        "    while i != src:\n",
        "      path.append(self.src_parent[i])\n",
        "      i = self.src_parent[i]\n",
        "\n",
        "    path = path[::-1]\n",
        "    i = intersecting_node\n",
        "\n",
        "    while i != dest:\n",
        "      path.append(self.dest_parent[i])\n",
        "      i = self.dest_parent[i]\n",
        "\n",
        "    print('*****Path*****')\n",
        "    path = list(map(str, path))\n",
        "\n",
        "    print(' '.join(path))\n",
        "\n",
        "  def bidirectional_search(self, src, dest):\n",
        "    self.src_queue.append(src)\n",
        "    self.src_visited[src] = True\n",
        "    self.src_parent[src] = -1\n",
        "\n",
        "    self.dest_queue.append(dest)\n",
        "    self.dest_visited[dest] = True\n",
        "    self.dest_parent[dest] = -1\n",
        "\n",
        "    while self.src_queue and self.dest_queue:\n",
        "      self.bfs(direction = 'forward')\n",
        "      self.bfs(direction = 'backward')\n",
        "\n",
        "      intersecting_node = self.is_intersecting()\n",
        "\n",
        "      if intersecting_node != -1:\n",
        "        print(f'Path exist between {src} and {dest}')\n",
        "        print(f'Intersection at {intersecting_node}')\n",
        "\n",
        "        self.print_path(intersecting_node, src, dest)\n",
        "        exit(0)\n",
        "    return -1"
      ],
      "metadata": {
        "id": "2h38QYAd9S9v"
      },
      "execution_count": null,
      "outputs": []
    },
    {
      "cell_type": "code",
      "source": [
        "# Number of vertices in graph\n",
        "n = 15\n",
        "\n",
        "src = 0\n",
        "dest = 6\n",
        "\n",
        "# Create Graph\n",
        "graph = BidirectionalSearch(n)\n",
        "graph.add_edge(0, 4)\n",
        "graph.add_edge(1, 4)\n",
        "graph.add_edge(2, 5)\n",
        "graph.add_edge(3, 5)\n",
        "graph.add_edge(4, 6)\n",
        "graph.add_edge(5, 6)\n",
        "graph.add_edge(6, 7)\n",
        "graph.add_edge(7, 8)\n",
        "graph.add_edge(8, 9)\n",
        "graph.add_edge(8, 10)\n",
        "graph.add_edge(9, 11)\n",
        "graph.add_edge(9, 12)\n",
        "graph.add_edge(10, 13)\n",
        "graph.add_edge(10, 14)\n",
        "\n",
        "out = graph.bidirectional_search(src, dest)\n",
        "\n",
        "if out == -1:\n",
        "  print(f'Path doest not exist between {src} and {dest}')\n"
      ],
      "metadata": {
        "colab": {
          "base_uri": "https://localhost:8080/"
        },
        "id": "VhU4FLAoDMN_",
        "outputId": "2cc9f1e8-35d6-4757-c263-1751781fe8d4"
      },
      "execution_count": null,
      "outputs": [
        {
          "output_type": "stream",
          "name": "stdout",
          "text": [
            "Path exist between 0 and 6\n",
            "Intersection at 4\n",
            "*****Path*****\n",
            "0 4 6\n",
            "Path exist between 0 and 6\n",
            "Intersection at 4\n",
            "*****Path*****\n",
            "0 4 6\n",
            "Path exist between 0 and 6\n",
            "Intersection at 4\n",
            "*****Path*****\n",
            "0 4 6\n",
            "Path exist between 0 and 6\n",
            "Intersection at 0\n",
            "*****Path*****\n",
            "0 4 6\n",
            "Path exist between 0 and 6\n",
            "Intersection at 0\n",
            "*****Path*****\n",
            "0 4 6\n",
            "Path exist between 0 and 6\n",
            "Intersection at 0\n",
            "*****Path*****\n",
            "0 4 6\n",
            "Path exist between 0 and 6\n",
            "Intersection at 0\n",
            "*****Path*****\n",
            "0 4 6\n",
            "Path exist between 0 and 6\n",
            "Intersection at 0\n",
            "*****Path*****\n",
            "0 4 6\n",
            "Path exist between 0 and 6\n",
            "Intersection at 0\n",
            "*****Path*****\n",
            "0 4 6\n",
            "Path exist between 0 and 6\n",
            "Intersection at 0\n",
            "*****Path*****\n",
            "0 4 6\n",
            "Path exist between 0 and 6\n",
            "Intersection at 0\n",
            "*****Path*****\n",
            "0 4 6\n",
            "Path exist between 0 and 6\n",
            "Intersection at 0\n",
            "*****Path*****\n",
            "0 4 6\n",
            "Path exist between 0 and 6\n",
            "Intersection at 0\n",
            "*****Path*****\n",
            "0 4 6\n",
            "Path exist between 0 and 6\n",
            "Intersection at 0\n",
            "*****Path*****\n",
            "0 4 6\n",
            "Path exist between 0 and 6\n",
            "Intersection at 0\n",
            "*****Path*****\n",
            "0 4 6\n",
            "Path doest not exist between 0 and 6\n"
          ]
        }
      ]
    }
  ]
}